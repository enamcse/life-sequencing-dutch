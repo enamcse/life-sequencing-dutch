{
 "cells": [
  {
   "cell_type": "code",
   "execution_count": 18,
   "id": "ab321a6d-6759-40b6-8f3a-b457e4aba887",
   "metadata": {},
   "outputs": [],
   "source": [
    "import duckdb\n",
    "from __future__ import annotations\n",
    "from sklearn.cluster import KMeans\n",
    "import pyarrow\n",
    "import numpy as np \n",
    "import polars as pl\n",
    "import matplotlib.pyplot as plt\n",
    "from pathlib import Path\n",
    "from typing import List, Optional, Union\n"
   ]
  },
  {
   "cell_type": "code",
   "execution_count": 19,
   "id": "aadc88d4-8870-46a7-980d-9f8dc91d3b9a",
   "metadata": {},
   "outputs": [],
   "source": [
    "def sample_ids_from_parquet(\n",
    "    parquet_path: str | Path, \n",
    "    id_column: str = \"rinpersoon_id\", \n",
    "    n: int = 1000, \n",
    "    seed: Optional[int] = None\n",
    ") -> pl.DataFrame:\n",
    "    \"\"\"\n",
    "    Sample n random IDs from a Parquet file and return a DataFrame with all columns\n",
    "    for those sampled IDs.\n",
    "    \n",
    "    Parameters:\n",
    "    -----------\n",
    "    parquet_path : str or Path\n",
    "        Path to the Parquet file\n",
    "    id_column : str, default=\"rinpersoon_id\"\n",
    "        Name of the ID column to sample from\n",
    "    n : int, default=1000\n",
    "        Number of IDs to sample\n",
    "    seed : int, optional\n",
    "        Random seed for reproducibility\n",
    "    \n",
    "    Returns:\n",
    "    --------\n",
    "    pl.DataFrame\n",
    "        DataFrame containing all columns for the sampled IDs\n",
    "    \"\"\"\n",
    "    # Convert to Path object if string is provided\n",
    "    if isinstance(parquet_path, str):\n",
    "        parquet_path = Path(parquet_path)\n",
    "\n",
    "    rng = np.random.default_rng(seed)\n",
    "    \n",
    "    # Step 1: Read only the ID column to minimize memory usage\n",
    "    try:\n",
    "        ids_df = pl.scan_parquet(parquet_path).select(id_column).collect()\n",
    "    except Exception as e:\n",
    "        raise Exception(f\"Error reading ID column from Parquet file: {e}\")\n",
    "    \n",
    "    # Step 2: Sample n unique IDs\n",
    "    unique_ids = ids_df[id_column].unique()\n",
    "    total_ids = len(unique_ids)\n",
    "    \n",
    "    if total_ids < n:\n",
    "        print(f\"Warning: Requested {n} samples but file only contains {total_ids} unique IDs.\")\n",
    "        n = total_ids\n",
    "    \n",
    "    sampled_ids = rng.choice(unique_ids, n, replace=False)\n",
    "    \n",
    "    # Step 3: Query the Parquet file to get all columns for the sampled IDs\n",
    "    try:\n",
    "        result_df = (\n",
    "            pl.scan_parquet(parquet_path)\n",
    "            .filter(pl.col(id_column).is_in(sampled_ids))\n",
    "            .collect()\n",
    "        )\n",
    "        \n",
    "        print(f\"Successfully sampled {len(result_df)} rows for {n} unique IDs.\")\n",
    "        return result_df\n",
    "    \n",
    "    except Exception as e:\n",
    "        raise Exception(f\"Error querying Parquet file for sampled IDs: {e}\")\n"
   ]
  },
  {
   "cell_type": "code",
   "execution_count": 20,
   "id": "4b220ab2-d199-4749-a9bd-b57049cf69ca",
   "metadata": {},
   "outputs": [],
   "source": [
    "def create_fake_embs(n=1_000, k=128):\n",
    "    rng = np.random.default_rng()\n",
    "    n = 1_000\n",
    "    k = 128\n",
    "    embs = rng.normal(size=(n,k))\n",
    "    ids = rng.choice(np.arange(1_000_000, 100_000_000), n, replace=False)\n",
    "    ids.dtype = np.int64\n",
    "    return np.hstack([np.expand_dims(ids,1), embs])"
   ]
  },
  {
   "cell_type": "code",
   "execution_count": 21,
   "id": "c394149c-237d-4c2f-bb65-4f06c392d99d",
   "metadata": {},
   "outputs": [],
   "source": [
    "embs = create_fake_embs()"
   ]
  },
  {
   "cell_type": "code",
   "execution_count": 22,
   "id": "4aedc931-3e90-4ab2-8f1a-a110db6c63b5",
   "metadata": {},
   "outputs": [],
   "source": [
    "n_clusters = 100\n"
   ]
  },
  {
   "cell_type": "code",
   "execution_count": 23,
   "id": "504d634b-06ed-4653-8dec-2c85cb889293",
   "metadata": {},
   "outputs": [],
   "source": [
    "def get_clusters(estimator, n_clusters, data):\n",
    "    ids, X = (data[:, 0], data[:, 1:])\n",
    "    estimator.n_clusters = n_clusters\n",
    "    estimator.fit(X)\n",
    "    clusters = np.vstack([ids, estimator.labels_]).T\n",
    "    cluster_df = pl.DataFrame(\n",
    "        clusters,\n",
    "        schema=[\"id\", \"cluster\"],\n",
    "        orient=\"row\"\n",
    "    )\n",
    "    \n",
    "    # Cast columns to appropriate types\n",
    "    cluster_df = cluster_df.with_columns([\n",
    "        pl.col(\"id\").cast(pl.Int64),\n",
    "        pl.col(\"cluster\").cast(pl.Int64)\n",
    "    ])\n",
    "    return cluster_df, estimator.cluster_centers_\n",
    "\n",
    "\n",
    "def summarise_cluster(cluster_df):\n",
    "    summary = (cluster_df\n",
    "    .group_by(\"cluster\")\n",
    "    .agg([\n",
    "        pl.len().alias(\"count\"),\n",
    "        pl.col(\"id\").min().alias(\"min_id\"),\n",
    "        pl.col(\"id\").max().alias(\"max_id\"),\n",
    "        pl.col(\"id\").mean().alias(\"avg_id\")\n",
    "    ])\n",
    "    .sort(\"cluster\")\n",
    "    )\n",
    "    return summary\n",
    "\n",
    "\n",
    "def barplot_cluster_sizes(cluster_df):\n",
    "    \"\"\"\n",
    "    Create a bar plot of cluster sizes and return the figure object for further handling.\n",
    "    \n",
    "    Parameters:\n",
    "    -----------\n",
    "    cluster_df : DataFrame\n",
    "        DataFrame containing cluster data\n",
    "    \n",
    "    Returns:\n",
    "    --------\n",
    "    matplotlib.figure.Figure\n",
    "        The figure object which can be displayed or saved\n",
    "    \"\"\"\n",
    "    summary = summarise_cluster(cluster_df)\n",
    "    \n",
    "    cluster_ids = summary[\"cluster\"].to_numpy()\n",
    "    counts = summary[\"count\"].to_numpy()\n",
    "    \n",
    "    # Create figure explicitly and get the figure object\n",
    "    fig = plt.figure(figsize=(10, 6))\n",
    "    \n",
    "    # Create the plot on the current figure\n",
    "    bars = plt.bar(cluster_ids, counts, color='skyblue', edgecolor='navy')\n",
    "    \n",
    "    plt.title('Number of Items per Cluster', fontsize=15)\n",
    "    plt.ylabel('Count', fontsize=12)\n",
    "    plt.ylim(0, max(counts) * 1.15)\n",
    "    plt.grid(axis='y', linestyle='--', alpha=0.7)\n",
    "    \n",
    "    # Apply tight layout to ensure proper spacing\n",
    "    plt.tight_layout()\n",
    "    \n",
    "    # Return the figure object\n",
    "    return fig\n",
    "\n"
   ]
  },
  {
   "cell_type": "code",
   "execution_count": null,
   "id": "7d7ade5e-5ffa-479a-9e7a-69fc1cd81bf7",
   "metadata": {},
   "outputs": [],
   "source": []
  },
  {
   "cell_type": "code",
   "execution_count": 24,
   "id": "e0ed275d-53a4-4ff1-9d38-34dbdb03be6e",
   "metadata": {},
   "outputs": [
    {
     "data": {
      "text/html": [
       "<div><style>\n",
       ".dataframe > thead > tr,\n",
       ".dataframe > tbody > tr {\n",
       "  text-align: right;\n",
       "  white-space: pre-wrap;\n",
       "}\n",
       "</style>\n",
       "<small>shape: (5, 2)</small><table border=\"1\" class=\"dataframe\"><thead><tr><th>id</th><th>cluster</th></tr><tr><td>i64</td><td>i64</td></tr></thead><tbody><tr><td>43541356</td><td>97</td></tr><tr><td>75455710</td><td>73</td></tr><tr><td>70383112</td><td>71</td></tr><tr><td>10638319</td><td>6</td></tr><tr><td>44592855</td><td>68</td></tr></tbody></table></div>"
      ],
      "text/plain": [
       "shape: (5, 2)\n",
       "┌──────────┬─────────┐\n",
       "│ id       ┆ cluster │\n",
       "│ ---      ┆ ---     │\n",
       "│ i64      ┆ i64     │\n",
       "╞══════════╪═════════╡\n",
       "│ 43541356 ┆ 97      │\n",
       "│ 75455710 ┆ 73      │\n",
       "│ 70383112 ┆ 71      │\n",
       "│ 10638319 ┆ 6       │\n",
       "│ 44592855 ┆ 68      │\n",
       "└──────────┴─────────┘"
      ]
     },
     "execution_count": 24,
     "metadata": {},
     "output_type": "execute_result"
    }
   ],
   "source": [
    "kmeans = KMeans(random_state=0, n_init=\"auto\")\n",
    "cluster_df, cluster_centers = get_clusters(kmeans, n_clusters, embs)\n",
    "cluster_df.head()"
   ]
  },
  {
   "cell_type": "code",
   "execution_count": 27,
   "id": "e588dd26-2cd3-4ce1-87cc-eaef82968ab1",
   "metadata": {},
   "outputs": [
    {
     "data": {
      "text/plain": [
       "(100, 128)"
      ]
     },
     "execution_count": 27,
     "metadata": {},
     "output_type": "execute_result"
    }
   ],
   "source": [
    "cluster_centers.shape"
   ]
  },
  {
   "cell_type": "code",
   "execution_count": 25,
   "id": "811a1515-116a-407f-a38f-c6da1415feb8",
   "metadata": {},
   "outputs": [
    {
     "data": {
      "image/png": "[encoded data removed]",
      "text/plain": [
       "<Figure size 1000x600 with 1 Axes>"
      ]
     },
     "metadata": {},
     "output_type": "display_data"
    }
   ],
   "source": [
    "plt = barplot_cluster_sizes(cluster_df)"
   ]
  },
  {
   "cell_type": "code",
   "execution_count": 17,
   "id": "4c48c472-e4b6-411e-a195-cb1cff44236a",
   "metadata": {},
   "outputs": [],
   "source": [
    "# plt.savefig(\"test.png\")"
   ]
  },
  {
   "cell_type": "code",
   "execution_count": 12,
   "id": "c8eba11a-042c-4677-a8fb-5d15325d1cf2",
   "metadata": {},
   "outputs": [],
   "source": []
  },
  {
   "cell_type": "code",
   "execution_count": null,
   "id": "412edd26-d866-499a-a317-671962575495",
   "metadata": {},
   "outputs": [],
   "source": []
  },
  {
   "cell_type": "code",
   "execution_count": null,
   "id": "5c563ea5-caa1-40b5-9439-2054ae134619",
   "metadata": {},
   "outputs": [],
   "source": []
  }
 ],
 "metadata": {
  "kernelspec": {
   "display_name": "Python 3 (ipykernel)",
   "language": "python",
   "name": "python3"
  },
  "language_info": {
   "codemirror_mode": {
    "name": "ipython",
    "version": 3
   },
   "file_extension": ".py",
   "mimetype": "text/x-python",
   "name": "python",
   "nbconvert_exporter": "python",
   "pygments_lexer": "ipython3",
   "version": "3.11.4"
  }
 },
 "nbformat": 4,
 "nbformat_minor": 5
}
