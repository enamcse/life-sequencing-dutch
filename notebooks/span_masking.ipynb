{
 "cells": [
  {
   "cell_type": "markdown",
   "id": "c92287aa-5bd0-4d92-8c9a-43c446d562cc",
   "metadata": {},
   "source": [
    "# Prototype for masking k contiguous sentences"
   ]
  },
  {
   "cell_type": "code",
   "execution_count": 36,
   "id": "f5505804-f018-43fb-ad52-35746f1dbaab",
   "metadata": {},
   "outputs": [],
   "source": [
    "import numpy as np\n",
    "rng = np.random.default_rng()\n"
   ]
  },
  {
   "cell_type": "code",
   "execution_count": 37,
   "id": "34b54c86-3b1a-4c72-8500-ce9a396179b4",
   "metadata": {},
   "outputs": [],
   "source": [
    "\n",
    "def merge_intervals(intervals):\n",
    "    \"\"\"Merge intervals to be non-overlapping.\n",
    "    Source: https://github.com/facebookresearch/SpanBERT/blob/main/pretraining/fairseq/data/masking.py\n",
    "    \"\"\"\n",
    "    intervals = sorted(intervals, key=lambda x : x[0])\n",
    "    merged = []\n",
    "    for interval in intervals:\n",
    "        # if the list of merged intervals is empty or if the current\n",
    "        # interval does not overlap with the previous, simply append it.\n",
    "        if not merged or merged[-1][1] + 1 < interval[0]:\n",
    "            merged.append(interval)\n",
    "        else:\n",
    "        # otherwise, there is overlap, so we merge the current and previous\n",
    "        # intervals.\n",
    "            merged[-1][1] = max(merged[-1][1], interval[1])\n",
    "\n",
    "    return merged\n",
    "\n",
    "def create_covered_indices(spans, max_index=None):\n",
    "    \"\"\"From a list of spans, create all indices covered by them.\"\"\"\n",
    "    spans = np.array(spans)\n",
    "    if not max_index:\n",
    "        max_index = spans[:, 1].max()\n",
    "\n",
    "    covered = np.zeros(max_index, dtype=bool)\n",
    "    for start, end in spans:\n",
    "        covered[start:end] = True\n",
    "\n",
    "    return np.where(covered)[0]\n",
    "\n",
    "    \n",
    "\n"
   ]
  },
  {
   "cell_type": "code",
   "execution_count": 38,
   "id": "79c55b4b-97f8-4f27-8208-b2f861ccfed8",
   "metadata": {},
   "outputs": [],
   "source": [
    "def span_masking(sentence_lengths, mask_frac=0.3, k=3):\n",
    "    n_sentences = len(sentence_lengths)\n",
    "    n_tokens = sum(sentence_lengths)\n",
    "    cumsum_lengths = np.cumsum(sentence_lengths)\n",
    "    spans = []\n",
    "\n",
    "    span_starts = rng.choice(np.arange(n_sentences), size=n_sentences, replace=False)\n",
    "    # span_lengths = rng.geometric(p=0.4, size = 10) # we'll probably need a higher p than 0.2 since we're masking at the sentence level\n",
    "    span_lengths = np.full(n_sentences, k)\n",
    "    print(span_lengths)\n",
    "\n",
    "    n_masked_tokens = 0\n",
    "    for span_start, span_length in zip(span_starts, span_lengths):\n",
    "        span_end = span_start + span_length\n",
    "        span_end = min(span_end, n_sentences-1)\n",
    "        tokens_in_span = cumsum_lengths[span_end] - cumsum_lengths[span_start]\n",
    "        if (n_masked_tokens + tokens_in_span) / n_tokens > mask_frac:\n",
    "            break\n",
    "        spans.append([span_start, span_end])\n",
    "        spans = merge_intervals(spans)\n",
    "        print(f\"spans are: {spans}\")\n",
    "        n_masked_tokens += tokens_in_span\n",
    "        print(f\"while loop is at {n_masked_tokens / n_tokens} \")\n",
    "\n",
    "    return create_covered_indices(spans)\n",
    "\n"
   ]
  },
  {
   "cell_type": "code",
   "execution_count": 41,
   "id": "9e3af3c6-543e-4e75-8700-62b7f2577620",
   "metadata": {},
   "outputs": [
    {
     "name": "stdout",
     "output_type": "stream",
     "text": [
      "[3 3 3 3 3 3 3 3 3 3 3 3 3 3 3 3 3 3 3 3]\n",
      "spans are: [[3, 6]]\n",
      "while loop is at 0.12121212121212122 \n",
      "spans are: [[3, 6], [16, 19]]\n",
      "while loop is at 0.42424242424242425 \n",
      "spans are: [[3, 6], [16, 19]]\n",
      "while loop is at 0.42424242424242425 \n"
     ]
    },
    {
     "data": {
      "text/plain": [
       "array([ 3,  4,  5, 16, 17, 18])"
      ]
     },
     "execution_count": 41,
     "metadata": {},
     "output_type": "execute_result"
    }
   ],
   "source": [
    "sentence_lengths = rng.choice(np.arange(5), size=20)\n",
    "sentences_to_mask = span_masking(sentence_lengths, mask_frac=0.6)\n",
    "# the function should be called after `find_sentences_to_mask` (which will need to return also the sentence lengths)\n",
    "sentences_to_mask\n",
    "# this can be plugged in to the `mask_tokens_in_sentence` function"
   ]
  },
  {
   "cell_type": "code",
   "execution_count": null,
   "id": "56c7e1f1-283a-4ebb-b0a6-f5381fab8e5f",
   "metadata": {},
   "outputs": [],
   "source": []
  },
  {
   "cell_type": "code",
   "execution_count": null,
   "id": "ff046c8f-733d-49f0-bc35-d5e1cba38dfa",
   "metadata": {},
   "outputs": [],
   "source": []
  },
  {
   "cell_type": "code",
   "execution_count": null,
   "id": "6a6dff3d-bdcd-4d1a-8088-1f2f7b20dd34",
   "metadata": {},
   "outputs": [],
   "source": []
  },
  {
   "cell_type": "code",
   "execution_count": null,
   "id": "c49d5493-5807-4e12-bbb5-8e17879195c2",
   "metadata": {},
   "outputs": [],
   "source": []
  },
  {
   "cell_type": "code",
   "execution_count": null,
   "id": "85d5f527-9936-44bf-8590-6db79aa39e44",
   "metadata": {},
   "outputs": [],
   "source": []
  }
 ],
 "metadata": {
  "kernelspec": {
   "display_name": "Python 3 (ipykernel)",
   "language": "python",
   "name": "python3"
  },
  "language_info": {
   "codemirror_mode": {
    "name": "ipython",
    "version": 3
   },
   "file_extension": ".py",
   "mimetype": "text/x-python",
   "name": "python",
   "nbconvert_exporter": "python",
   "pygments_lexer": "ipython3",
   "version": "3.11.4"
  }
 },
 "nbformat": 4,
 "nbformat_minor": 5
}
