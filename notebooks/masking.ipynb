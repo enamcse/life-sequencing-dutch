{
 "cells": [
  {
   "cell_type": "markdown",
   "id": "c856d1ab-7a99-4a9c-a128-7ac95c456322",
   "metadata": {},
   "source": [
    "### Illustrating token masking \n",
    "\n",
    "This notebook has a small example of events and illustrates how masking works."
   ]
  },
  {
   "cell_type": "code",
   "execution_count": 1,
   "id": "83d7aa9d-41a4-4abd-be72-7b6fe5d2c335",
   "metadata": {},
   "outputs": [
    {
     "name": "stderr",
     "output_type": "stream",
     "text": [
      "/home/flavio/repositories/projects/odissei-life2vec/life-sequencing-dutch/.venv/lib/python3.11/site-packages/tqdm/auto.py:21: TqdmWarning: IProgress not found. Please update jupyter and ipywidgets. See https://ipywidgets.readthedocs.io/en/stable/user_install.html\n",
      "  from .autonotebook import tqdm as notebook_tqdm\n"
     ]
    }
   ],
   "source": [
    "import pandas as pd\n",
    "import numpy as np\n",
    "from typing import Tuple\n",
    "from pop2vec.llm.src.new_code.custom_vocab import CustomVocabulary\n",
    "from pop2vec.llm.src.data_new.types import PersonDocument, Background\n",
    "from pop2vec.llm.src.tasks.mlm import MLM\n"
   ]
  },
  {
   "cell_type": "markdown",
   "id": "06120013-eba5-498e-82a4-11b8313229d5",
   "metadata": {},
   "source": [
    "#### First, we create some input data"
   ]
  },
  {
   "cell_type": "code",
   "execution_count": 47,
   "id": "a4d6d68e-c188-427a-be48-1c23ac385cde",
   "metadata": {},
   "outputs": [],
   "source": [
    "data = [\n",
    "    {\n",
    "        \"person_id\": 1, \n",
    "        \"segment\": [2, 4, 6, 7, 8],\n",
    "        \"age\": [18, 24, 29, 33, 56],\n",
    "        \"abspos\": [200, 404, 500, 600, 805],\n",
    "        \"background\": {\"birth_year\": \"year_99.0\", \"birth_month\": \"month_12.0\", \"gender\": \"gender_2\", \"origin\": \"municipality_54.0\"},\n",
    "        \"sentence\": [ \n",
    "            [\"educSim_2.0\"], \n",
    "            [\"_4_D\"], \n",
    "            [\"contractType2_1.0\", \"sicknessInsurance2_1.0\", \"wage_50.0\"],\n",
    "            [\"contractType4_1.0\", \"sicknessInsurance3_1.0\", \"wage_10.0\"],\n",
    "            [\"contractType1_1.0\", \"sicknessInsurance1_1.0\", \"wage_20.0\"],\n",
    "        ]\n",
    "    },\n",
    "    {\n",
    "        \"person_id\": 2, \n",
    "        \"segment\": [6, 3, 10, 10, 10, 11, 12, 13, 14, 15],\n",
    "        \"age\": [19, 22, 40, 42, 55, 80, 99, 101, 204, 206],\n",
    "        \"abspos\": [99, 103, 501, 708, 890, 899, 901, 910, 915, 930],\n",
    "        \"background\": {\"birth_year\": \"year_95.0\", \"birth_month\": \"month_5.0\", \"gender\": \"gender_1\", \"origin\": \"municipality_15.0\"},\n",
    "        \"sentence\": [\n",
    "            [\"educSim_1.0\"], \n",
    "            [\"contractType2_1.0\", \"_4_D\"],\n",
    "            [\"contractType2_1.0\", \"wage_50.0\", \"sicknessInsurance2_2.0\"] ,\n",
    "            [\"contractType2_1.0\", \"sicknessInsurance1_1.0\", \"wage_50.0\"],\n",
    "            [\"contractType4_1.0\", \"sicknessInsurance2_0.0\", \"wage_10.0\"],\n",
    "            [\"contractType4_1.0\", \"sicknessInsurance2_0.0\", \"wage_10.0\"],\n",
    "            [\"contractType4_1.0\", \"sicknessInsurance2_0.0\", \"wage_10.0\"],\n",
    "            [\"contractType4_1.0\", \"sicknessInsurance2_0.0\", \"wage_10.0\"],\n",
    "            [\"contractType4_1.0\", \"sicknessInsurance2_0.0\", \"wage_10.0\"],\n",
    "            [\"contractType4_1.0\", \"sicknessInsurance2_0.0\", \"wage_10.0\"],\n",
    "        ]\n",
    "    }\n",
    "]\n",
    "\n",
    "person_df = pd.DataFrame(data)"
   ]
  },
  {
   "cell_type": "markdown",
   "id": "f949d363-2aae-49ef-b1e0-7e4f9a7c966a",
   "metadata": {},
   "source": [
    "We need to create the vocabulary from these data (normally done from files that define the sequence data above)\n",
    "\n",
    "The vocabulary should look as follows:\n",
    "\n",
    "```txt\n",
    "TOKEN,CATEGORY,ID\n",
    "[PAD],GENERAL,0\n",
    "[CLS],GENERAL,1\n",
    "[SEP],GENERAL,2\n",
    "[MASK],GENERAL,3\n",
    "[UNK],GENERAL,4\n",
    "gender_1,BACKGROUND,5\n",
    "gender_2,BACKGROUND,6\n",
    "gender_MISSING,BACKGROUND,7\n",
    "year_1958,background_shuffled_year,8\n",
    "year_1962,background_shuffled_year,9\n",
    "year_2003,background_shuffled_year,10\n",
    "year_1961,background_shuffled_year,11\n",
    "year_1952,background_shuffled_year,12\n",
    "year_1971,background_shuffled_year,13\n",
    "year_1991,background_shuffled_year,14\n",
    "year_2016,background_shuffled_year,15\n",
    "year_1965,background_shuffled_year,16\n",
    "year_2008,background_shuffled_year,17\n",
    "year_1963,background_shuffled_year,18\n",
    "```\n",
    "\n",
    "- category refers to `filename_colname`; token consists of `colname_content`\n",
    "- abspos is an increasing sequence of integers\n",
    "- age, segment and abspos are constant for all tokens in the same event (?)\n",
    "- sentence\n",
    "\t- array of arrays. each array is an event. each event has string tokens such as `['INPAINV3400P_93', 'INPEMEZ_Others', 'INPKKGEM_Others', 'INPPH770UP_93']`\n"
   ]
  },
  {
   "cell_type": "code",
   "execution_count": 48,
   "id": "cf3a00ba-2014-45d4-a0b8-11867f1ec6b1",
   "metadata": {},
   "outputs": [],
   "source": [
    "def get_vocab(person_list):\n",
    "    sentence_tokens = set()\n",
    "    for person in person_list:\n",
    "        tokens = [token for event in person[\"sentence\"] for token in event]\n",
    "        sentence_tokens |= set(tokens) \n",
    "\n",
    "    background = [person[\"background\"] for person in person_list]\n",
    "    background_tokens = pd.DataFrame(background)\n",
    "\n",
    "    general_tokens = [\"[PAD]\", \"[CLS]\", \"[SEP]\", \"[MASK]\", \"[UNK]\"]\n",
    "    vocab = []\n",
    "    \n",
    "    for token in general_tokens:\n",
    "        item = {\"TOKEN\": token, \"CATEGORY\": \"GENERAL\"}\n",
    "        vocab.append(item)\n",
    "    \n",
    "    \n",
    "    for token in sentence_tokens:\n",
    "        item = {\"TOKEN\": token, \"CATEGORY\": \"income_file\"}\n",
    "        vocab.append(item)\n",
    "    \n",
    "    for col in background_tokens.columns:\n",
    "        for x in background_tokens[col].unique():\n",
    "            item = {\"TOKEN\": x, \"CATEGORY\": \"background\"}\n",
    "            vocab.append(item)\n",
    "    \n",
    "    vocab_df = pd.DataFrame(vocab)\n",
    "    vocab_df[\"ID\"] = vocab_df.index\n",
    "    return vocab_df\n"
   ]
  },
  {
   "cell_type": "code",
   "execution_count": 49,
   "id": "e8d70797-a9e4-4fb0-a968-90d6cce8b7a7",
   "metadata": {},
   "outputs": [
    {
     "data": {
      "text/plain": [
       "['[PAD]', '[CLS]', '[SEP]', '[MASK]', '[UNK]']"
      ]
     },
     "execution_count": 49,
     "metadata": {},
     "output_type": "execute_result"
    }
   ],
   "source": [
    "vocab_df = get_vocab(data)\n",
    "myvocab = CustomVocabulary(name=\"test\", data_files=[\"a.csv\", \"b.csv\"])\n",
    "myvocab.vocab_df = vocab_df\n",
    "myvocab.general_tokens"
   ]
  },
  {
   "cell_type": "code",
   "execution_count": 50,
   "id": "e91067e5-9564-4c19-89d7-021086ef32fc",
   "metadata": {},
   "outputs": [
    {
     "data": {
      "text/html": [
       "<div>\n",
       "<style scoped>\n",
       "    .dataframe tbody tr th:only-of-type {\n",
       "        vertical-align: middle;\n",
       "    }\n",
       "\n",
       "    .dataframe tbody tr th {\n",
       "        vertical-align: top;\n",
       "    }\n",
       "\n",
       "    .dataframe thead th {\n",
       "        text-align: right;\n",
       "    }\n",
       "</style>\n",
       "<table border=\"1\" class=\"dataframe\">\n",
       "  <thead>\n",
       "    <tr style=\"text-align: right;\">\n",
       "      <th></th>\n",
       "      <th>TOKEN</th>\n",
       "      <th>CATEGORY</th>\n",
       "      <th>ID</th>\n",
       "    </tr>\n",
       "  </thead>\n",
       "  <tbody>\n",
       "    <tr>\n",
       "      <th>0</th>\n",
       "      <td>[PAD]</td>\n",
       "      <td>GENERAL</td>\n",
       "      <td>0</td>\n",
       "    </tr>\n",
       "    <tr>\n",
       "      <th>1</th>\n",
       "      <td>[CLS]</td>\n",
       "      <td>GENERAL</td>\n",
       "      <td>1</td>\n",
       "    </tr>\n",
       "    <tr>\n",
       "      <th>2</th>\n",
       "      <td>[SEP]</td>\n",
       "      <td>GENERAL</td>\n",
       "      <td>2</td>\n",
       "    </tr>\n",
       "    <tr>\n",
       "      <th>3</th>\n",
       "      <td>[MASK]</td>\n",
       "      <td>GENERAL</td>\n",
       "      <td>3</td>\n",
       "    </tr>\n",
       "    <tr>\n",
       "      <th>4</th>\n",
       "      <td>[UNK]</td>\n",
       "      <td>GENERAL</td>\n",
       "      <td>4</td>\n",
       "    </tr>\n",
       "    <tr>\n",
       "      <th>5</th>\n",
       "      <td>sicknessInsurance2_2.0</td>\n",
       "      <td>income_file</td>\n",
       "      <td>5</td>\n",
       "    </tr>\n",
       "    <tr>\n",
       "      <th>6</th>\n",
       "      <td>sicknessInsurance2_1.0</td>\n",
       "      <td>income_file</td>\n",
       "      <td>6</td>\n",
       "    </tr>\n",
       "    <tr>\n",
       "      <th>7</th>\n",
       "      <td>sicknessInsurance3_1.0</td>\n",
       "      <td>income_file</td>\n",
       "      <td>7</td>\n",
       "    </tr>\n",
       "    <tr>\n",
       "      <th>8</th>\n",
       "      <td>contractType4_1.0</td>\n",
       "      <td>income_file</td>\n",
       "      <td>8</td>\n",
       "    </tr>\n",
       "    <tr>\n",
       "      <th>9</th>\n",
       "      <td>educSim_1.0</td>\n",
       "      <td>income_file</td>\n",
       "      <td>9</td>\n",
       "    </tr>\n",
       "  </tbody>\n",
       "</table>\n",
       "</div>"
      ],
      "text/plain": [
       "                    TOKEN     CATEGORY  ID\n",
       "0                   [PAD]      GENERAL   0\n",
       "1                   [CLS]      GENERAL   1\n",
       "2                   [SEP]      GENERAL   2\n",
       "3                  [MASK]      GENERAL   3\n",
       "4                   [UNK]      GENERAL   4\n",
       "5  sicknessInsurance2_2.0  income_file   5\n",
       "6  sicknessInsurance2_1.0  income_file   6\n",
       "7  sicknessInsurance3_1.0  income_file   7\n",
       "8       contractType4_1.0  income_file   8\n",
       "9             educSim_1.0  income_file   9"
      ]
     },
     "execution_count": 50,
     "metadata": {},
     "output_type": "execute_result"
    }
   ],
   "source": [
    "vocab_df.head(10) # masked tokens have value 3"
   ]
  },
  {
   "cell_type": "code",
   "execution_count": 51,
   "id": "c10d9e2b-0758-4846-94e7-fa6c05a850ea",
   "metadata": {},
   "outputs": [
    {
     "data": {
      "text/html": [
       "<div>\n",
       "<style scoped>\n",
       "    .dataframe tbody tr th:only-of-type {\n",
       "        vertical-align: middle;\n",
       "    }\n",
       "\n",
       "    .dataframe tbody tr th {\n",
       "        vertical-align: top;\n",
       "    }\n",
       "\n",
       "    .dataframe thead th {\n",
       "        text-align: right;\n",
       "    }\n",
       "</style>\n",
       "<table border=\"1\" class=\"dataframe\">\n",
       "  <thead>\n",
       "    <tr style=\"text-align: right;\">\n",
       "      <th></th>\n",
       "      <th>person_id</th>\n",
       "      <th>segment</th>\n",
       "      <th>age</th>\n",
       "      <th>abspos</th>\n",
       "      <th>background</th>\n",
       "      <th>sentence</th>\n",
       "    </tr>\n",
       "  </thead>\n",
       "  <tbody>\n",
       "    <tr>\n",
       "      <th>0</th>\n",
       "      <td>1</td>\n",
       "      <td>[2, 4, 6, 7, 8]</td>\n",
       "      <td>[18, 24, 29, 33, 56]</td>\n",
       "      <td>[200, 404, 500, 600, 805]</td>\n",
       "      <td>{'birth_year': 'year_99.0', 'birth_month': 'mo...</td>\n",
       "      <td>[[educSim_2.0], [_4_D], [contractType2_1.0, si...</td>\n",
       "    </tr>\n",
       "    <tr>\n",
       "      <th>1</th>\n",
       "      <td>2</td>\n",
       "      <td>[6, 3, 10, 10, 10, 11, 12, 13, 14, 15]</td>\n",
       "      <td>[19, 22, 40, 42, 55, 80, 99, 101, 204, 206]</td>\n",
       "      <td>[99, 103, 501, 708, 890, 899, 901, 910, 915, 930]</td>\n",
       "      <td>{'birth_year': 'year_95.0', 'birth_month': 'mo...</td>\n",
       "      <td>[[educSim_1.0], [contractType2_1.0, _4_D], [co...</td>\n",
       "    </tr>\n",
       "  </tbody>\n",
       "</table>\n",
       "</div>"
      ],
      "text/plain": [
       "   person_id                                 segment  \\\n",
       "0          1                         [2, 4, 6, 7, 8]   \n",
       "1          2  [6, 3, 10, 10, 10, 11, 12, 13, 14, 15]   \n",
       "\n",
       "                                           age  \\\n",
       "0                         [18, 24, 29, 33, 56]   \n",
       "1  [19, 22, 40, 42, 55, 80, 99, 101, 204, 206]   \n",
       "\n",
       "                                              abspos  \\\n",
       "0                          [200, 404, 500, 600, 805]   \n",
       "1  [99, 103, 501, 708, 890, 899, 901, 910, 915, 930]   \n",
       "\n",
       "                                          background  \\\n",
       "0  {'birth_year': 'year_99.0', 'birth_month': 'mo...   \n",
       "1  {'birth_year': 'year_95.0', 'birth_month': 'mo...   \n",
       "\n",
       "                                            sentence  \n",
       "0  [[educSim_2.0], [_4_D], [contractType2_1.0, si...  \n",
       "1  [[educSim_1.0], [contractType2_1.0, _4_D], [co...  "
      ]
     },
     "execution_count": 51,
     "metadata": {},
     "output_type": "execute_result"
    }
   ],
   "source": [
    "person_df"
   ]
  },
  {
   "cell_type": "markdown",
   "id": "44989c21-b070-49fe-bc85-832f8882cf0a",
   "metadata": {},
   "source": [
    "### Create a person document\n",
    "\n",
    "Similar to the data that are passed into `pipeline.py`"
   ]
  },
  {
   "cell_type": "code",
   "execution_count": 82,
   "id": "1e36074c-82ca-4aa5-90d2-36e9cd108a71",
   "metadata": {},
   "outputs": [],
   "source": [
    "row = list(person_df.itertuples())[0]\n",
    "person_id = getattr(row, \"person_id\")\n",
    "sentences = row.sentence\n",
    "person_document = PersonDocument(\n",
    "    person_id=person_id,\n",
    "    sentences=sentences, # note: diff to original code (??)\n",
    "    abspos=[int(float(x)) for x in row.abspos],\n",
    "    age=[int(float(x)) for x in row.age],\n",
    "    segment=[int(x) for x in row.segment],\n",
    "    background=Background(**row.background),\n",
    ")\n"
   ]
  },
  {
   "cell_type": "code",
   "execution_count": 83,
   "id": "617f1521-941b-444c-98af-45395c65ac40",
   "metadata": {},
   "outputs": [
    {
     "data": {
      "text/plain": [
       "5"
      ]
     },
     "execution_count": 83,
     "metadata": {},
     "output_type": "execute_result"
    }
   ],
   "source": [
    "len(sentences)"
   ]
  },
  {
   "cell_type": "markdown",
   "id": "0ac8f63a-18ba-4301-80e5-d5c040976524",
   "metadata": {},
   "source": [
    "#### Set the MLM encoder and run it\n"
   ]
  },
  {
   "cell_type": "code",
   "execution_count": 84,
   "id": "3ebb9124-fb81-4c3e-8cb1-21cd459f2867",
   "metadata": {},
   "outputs": [],
   "source": [
    "mlm = MLM(\"mytest\", max_length = 16, masking=\"random\")\n",
    "mlm.set_vocabulary(myvocab)"
   ]
  },
  {
   "cell_type": "code",
   "execution_count": 85,
   "id": "7a2ca69b-0339-40db-bf9b-13d3f276fbd6",
   "metadata": {},
   "outputs": [
    {
     "data": {
      "text/plain": [
       "MLM(name='mytest', max_length=16, no_sep=False, p_sequence_timecut=0.0, p_sequence_resample=0.0, p_sequence_abspos_noise=0.0, p_sequence_hide_background=0.0, p_sentence_drop_tokens=0.0, shuffle_within_sentences=True, mask_ratio=0.3, smart_masking=False, masking='random')"
      ]
     },
     "execution_count": 85,
     "metadata": {},
     "output_type": "execute_result"
    }
   ],
   "source": [
    "mlm"
   ]
  },
  {
   "cell_type": "code",
   "execution_count": 86,
   "id": "7068e536-6d8f-4fcb-b632-6e06f0a638c9",
   "metadata": {},
   "outputs": [],
   "source": [
    "output = mlm.encode_document(person_document, do_mlm=True)"
   ]
  },
  {
   "cell_type": "code",
   "execution_count": 87,
   "id": "0aa7fcda-2123-4013-ab42-2dd5267d7c0a",
   "metadata": {},
   "outputs": [
    {
     "data": {
      "text/plain": [
       "MLM(name='mytest', max_length=16, no_sep=False, p_sequence_timecut=0.0, p_sequence_resample=0.0, p_sequence_abspos_noise=0.0, p_sequence_hide_background=0.0, p_sentence_drop_tokens=0.0, shuffle_within_sentences=True, mask_ratio=0.3, smart_masking=False, masking='random')"
      ]
     },
     "execution_count": 87,
     "metadata": {},
     "output_type": "execute_result"
    }
   ],
   "source": [
    "mlm"
   ]
  },
  {
   "cell_type": "code",
   "execution_count": 88,
   "id": "392072f7-b425-44b8-8ba1-0bbb714cc17b",
   "metadata": {},
   "outputs": [
    {
     "data": {
      "text/plain": [
       "False"
      ]
     },
     "execution_count": 88,
     "metadata": {},
     "output_type": "execute_result"
    }
   ],
   "source": [
    "output is None"
   ]
  },
  {
   "cell_type": "markdown",
   "id": "d05a5e9b-5248-44d9-ba77-8164618c18d4",
   "metadata": {},
   "source": [
    "#### The main result are the `input_ids`"
   ]
  },
  {
   "cell_type": "code",
   "execution_count": 89,
   "id": "b89df147-9bd8-446e-b2b0-ded5d8192b25",
   "metadata": {},
   "outputs": [
    {
     "name": "stdout",
     "output_type": "stream",
     "text": [
      "4\n"
     ]
    },
    {
     "data": {
      "text/plain": [
       "(4, 16)"
      ]
     },
     "execution_count": 89,
     "metadata": {},
     "output_type": "execute_result"
    }
   ],
   "source": [
    "print(len(output.input_ids))\n",
    "output.input_ids[0][:40] # what are these input ids? -> they are the model predictors\n",
    "output.input_ids.shape"
   ]
  },
  {
   "cell_type": "markdown",
   "id": "cf17896f-a4aa-4709-bcb0-5cb644668a65",
   "metadata": {},
   "source": [
    "For each sample, `input_ids` is an array of `[4, sequence_length]`\n",
    "- first row are the tokens - the masked or non-masked sequence\n",
    "- the second row is the absolute position (calender time?)\n",
    "- the third row is the age\n",
    "- the fourth row is the segment"
   ]
  },
  {
   "cell_type": "code",
   "execution_count": 90,
   "id": "82d90e9e-e46f-4852-b8f8-c26a4e3e4dfc",
   "metadata": {},
   "outputs": [
    {
     "data": {
      "text/plain": [
       "15"
      ]
     },
     "execution_count": 90,
     "metadata": {},
     "output_type": "execute_result"
    }
   ],
   "source": [
    "output.original_sequence[10]\n",
    "# the difference between the original sequence and the input_ids is that \n",
    "# the input_ids has the target tokens removed "
   ]
  },
  {
   "cell_type": "code",
   "execution_count": 91,
   "id": "a131f3b3-c61f-462b-9d6b-afb698b8c035",
   "metadata": {
    "scrolled": true
   },
   "outputs": [
    {
     "data": {
      "text/plain": [
       "array([ 4, 12,  6,  7])"
      ]
     },
     "execution_count": 91,
     "metadata": {},
     "output_type": "execute_result"
    }
   ],
   "source": [
    "output.target_pos # this is the index in the sequence that is masked"
   ]
  },
  {
   "cell_type": "code",
   "execution_count": 92,
   "id": "67fa2a67-1289-4d86-a903-f3802831d831",
   "metadata": {},
   "outputs": [
    {
     "data": {
      "text/plain": [
       "4"
      ]
     },
     "execution_count": 92,
     "metadata": {},
     "output_type": "execute_result"
    }
   ],
   "source": [
    "output.target_pos.min()"
   ]
  },
  {
   "cell_type": "code",
   "execution_count": 93,
   "id": "830d1b7f-6de4-480c-a9d2-07498744d7d6",
   "metadata": {},
   "outputs": [
    {
     "data": {
      "text/plain": [
       "array([19., 18.,  8.,  7.])"
      ]
     },
     "execution_count": 93,
     "metadata": {},
     "output_type": "execute_result"
    }
   ],
   "source": [
    "output.target_tokens # this is the value of the masked tokens to be predicted"
   ]
  },
  {
   "cell_type": "code",
   "execution_count": 94,
   "id": "23219f8e-9316-46d5-af9f-65951a0bb56b",
   "metadata": {},
   "outputs": [],
   "source": [
    "def print_target_position(idx, encoded_document):\n",
    "    print(f\"position {idx} in the original sequence with value {encoded_document.original_sequence[idx]} is a target token\")"
   ]
  },
  {
   "cell_type": "code",
   "execution_count": 95,
   "id": "fdee9683-f586-4d17-b9be-8971dc1adbcd",
   "metadata": {},
   "outputs": [
    {
     "name": "stdout",
     "output_type": "stream",
     "text": [
      "position 4 in the original sequence with value 19 is a target token\n",
      "position 12 in the original sequence with value 18 is a target token\n",
      "position 6 in the original sequence with value 8 is a target token\n",
      "position 7 in the original sequence with value 7 is a target token\n"
     ]
    }
   ],
   "source": [
    "for idx in output.target_pos:\n",
    "    print_target_position(idx, output)\n"
   ]
  },
  {
   "cell_type": "code",
   "execution_count": 96,
   "id": "a9ef50d3-7e0a-4012-b736-de60c9b96c1d",
   "metadata": {},
   "outputs": [
    {
     "data": {
      "text/plain": [
       "0.0"
      ]
     },
     "execution_count": 96,
     "metadata": {},
     "output_type": "execute_result"
    }
   ],
   "source": [
    "output.input_ids[0, 1]\n",
    "output.input_ids[1,1] # this is the absolute position of the masked token \n",
    "output.input_ids[2,1] # this is the age of the masked token\n",
    "output.input_ids[3,1] # this is the segment of the masked token\n"
   ]
  },
  {
   "cell_type": "markdown",
   "id": "24e82982-132d-4834-9961-dd7555b3ecf5",
   "metadata": {},
   "source": [
    "Checking a single token\n",
    "- background tokens have 0s for age, abspos etc - makes sense"
   ]
  },
  {
   "cell_type": "code",
   "execution_count": 19,
   "id": "a7e6e51c-2097-47ab-aa08-6177717006e7",
   "metadata": {},
   "outputs": [],
   "source": [
    "first_token = output.input_ids[:, 10]"
   ]
  },
  {
   "cell_type": "code",
   "execution_count": 20,
   "id": "83db368e-c139-4bd3-b9bd-bb80b170fca2",
   "metadata": {},
   "outputs": [
    {
     "data": {
      "text/plain": [
       "array([  5., 805.,  56.,   8.])"
      ]
     },
     "execution_count": 20,
     "metadata": {},
     "output_type": "execute_result"
    }
   ],
   "source": [
    "first_token"
   ]
  }
 ],
 "metadata": {
  "kernelspec": {
   "display_name": "Python 3 (ipykernel)",
   "language": "python",
   "name": "python3"
  },
  "language_info": {
   "codemirror_mode": {
    "name": "ipython",
    "version": 3
   },
   "file_extension": ".py",
   "mimetype": "text/x-python",
   "name": "python",
   "nbconvert_exporter": "python",
   "pygments_lexer": "ipython3",
   "version": "3.11.4"
  }
 },
 "nbformat": 4,
 "nbformat_minor": 5
}
